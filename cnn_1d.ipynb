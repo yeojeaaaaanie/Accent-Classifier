{
 "cells": [
  {
   "cell_type": "code",
   "execution_count": 5,
   "metadata": {
    "colab": {},
    "colab_type": "code",
    "id": "1Nhau6hODx_H"
   },
   "outputs": [],
   "source": [
    "from __future__ import print_function\n",
    "\n",
    "import numpy as np\n",
    "import pickle\n",
    "import pandas as pd\n",
    "\n",
    "from sklearn.model_selection import train_test_split\n",
    "from sklearn.metrics import classification_report\n",
    "from sklearn.preprocessing import LabelEncoder\n",
    "\n",
    "from keras.preprocessing import sequence\n",
    "from keras.layers.noise import GaussianNoise\n",
    "from keras.models import Sequential\n",
    "from keras.layers.core import Dense,Dropout,Activation,Flatten\n",
    "from keras.layers.normalization import BatchNormalization\n",
    "from keras.layers.convolutional import Conv1D,MaxPooling1D\n",
    "from keras.utils import np_utils\n",
    "from tensorflow.keras import regularizers"
   ]
  },
  {
   "cell_type": "code",
   "execution_count": 6,
   "metadata": {
    "colab": {},
    "colab_type": "code",
    "id": "cplzftzzROem"
   },
   "outputs": [],
   "source": [
    "#set parameters\n",
    "\n",
    "nb_filter = 64\n",
    "filter_length_1 = 10\n",
    "filter_length_2 = 7\n",
    "hidden_dims = 10\n",
    "batch_size = 64\n",
    "nb_epoch = 30\n",
    "nb_classes = 16"
   ]
  },
  {
   "cell_type": "code",
   "execution_count": 7,
   "metadata": {
    "colab": {},
    "colab_type": "code",
    "id": "YosiMd03RqAE"
   },
   "outputs": [
    {
     "name": "stdout",
     "output_type": "stream",
     "text": [
      "1080 train sequences\n",
      "270 test sequences\n",
      "X_train shape: (1080, 13, 1)\n",
      "X_test shape: (270, 13, 1)\n",
      "y_train shape: (1080,)\n",
      "y_test shape: (270,)\n"
     ]
    }
   ],
   "source": [
    "# #load the sequential MFCC data\n",
    "# with open(os.path.join(proj_dir, 'seq_mfcc.pickle'), 'rb') as jar:\n",
    "#   mfcc_data = pickle.load(jar)\n",
    "\n",
    "mfcc_filename = \"mfccs_dev_22050.csv\"\n",
    "dataset = pd.read_csv(mfcc_filename)\n",
    "df = pd.DataFrame(dataset)\n",
    "mfcc_data = df[[\"mfcc_mean1\",\"mfcc_mean2\",\"mfcc_mean3\",\"mfcc_mean4\",\"mfcc_mean5\",\"mfcc_mean6\",\"mfcc_mean7\",\"mfcc_mean8\",\"mfcc_mean9\",\"mfcc_mean10\",\"mfcc_mean11\",\"mfcc_mean12\",\"mfcc_mean13\"]]\n",
    "test_dim = mfcc_data.shape[0]\n",
    "\n",
    "#set up targets (labels)\n",
    "accent_data = pd.read_csv(\"cv-valid-dev-acc-mp3.csv\")\n",
    "targets_raw = np.array(accent_data['accent'])\n",
    "\n",
    "label_encoder = LabelEncoder()\n",
    "mfcc_targets = label_encoder.fit_transform(targets_raw)\n",
    "\n",
    "X_train,X_test,y_train,y_test = train_test_split(\n",
    "    mfcc_data,mfcc_targets,test_size=0.20,random_state=42\n",
    ")\n",
    "\n",
    "Y_train = np_utils.to_categorical(y_train, nb_classes)\n",
    "Y_test = np_utils.to_categorical(y_test, nb_classes)\n",
    "\n",
    "X_train = X_train.values.reshape(X_train.shape[0], X_train.shape[1], 1)\n",
    "X_test = X_test.values.reshape(X_test.shape[0], X_test.shape[1],1)\n",
    "\n",
    "print(len(X_train), 'train sequences')\n",
    "print(len(X_test), 'test sequences')\n",
    "print('X_train shape:', X_train.shape)\n",
    "print('X_test shape:', X_test.shape)\n",
    "print('y_train shape:', y_train.shape)\n",
    "print('y_test shape:', y_test.shape)"
   ]
  },
  {
   "cell_type": "code",
   "execution_count": 13,
   "metadata": {
    "colab": {},
    "colab_type": "code",
    "id": "6DbKSHznSMzW"
   },
   "outputs": [
    {
     "name": "stdout",
     "output_type": "stream",
     "text": [
      "Model: \"sequential_2\"\n",
      "_________________________________________________________________\n",
      "Layer (type)                 Output Shape              Param #   \n",
      "=================================================================\n",
      "conv1d_4 (Conv1D)            (None, 4, 64)             704       \n",
      "_________________________________________________________________\n",
      "batch_normalization_3 (Batch (None, 4, 64)             256       \n",
      "_________________________________________________________________\n",
      "conv1d_5 (Conv1D)            (None, 4, 64)             28736     \n",
      "_________________________________________________________________\n",
      "max_pooling1d_3 (MaxPooling1 (None, 2, 64)             0         \n",
      "_________________________________________________________________\n",
      "batch_normalization_4 (Batch (None, 2, 64)             256       \n",
      "_________________________________________________________________\n",
      "conv1d_6 (Conv1D)            (None, 2, 64)             28736     \n",
      "_________________________________________________________________\n",
      "max_pooling1d_4 (MaxPooling1 (None, 1, 64)             0         \n",
      "_________________________________________________________________\n",
      "flatten_2 (Flatten)          (None, 64)                0         \n",
      "_________________________________________________________________\n",
      "dropout_2 (Dropout)          (None, 64)                0         \n",
      "_________________________________________________________________\n",
      "dense_2 (Dense)              (None, 16)                1040      \n",
      "=================================================================\n",
      "Total params: 59,728\n",
      "Trainable params: 59,472\n",
      "Non-trainable params: 256\n",
      "_________________________________________________________________\n",
      "Train on 1080 samples, validate on 270 samples\n",
      "Epoch 1/30\n",
      "1080/1080 [==============================] - 1s 896us/step - loss: 2.1927 - accuracy: 0.3509 - val_loss: 2.0835 - val_accuracy: 0.3815\n",
      "Epoch 2/30\n",
      "1080/1080 [==============================] - 0s 143us/step - loss: 1.6821 - accuracy: 0.4481 - val_loss: 1.8640 - val_accuracy: 0.4407\n",
      "Epoch 3/30\n",
      "1080/1080 [==============================] - 0s 154us/step - loss: 1.5417 - accuracy: 0.4963 - val_loss: 1.9401 - val_accuracy: 0.3963\n",
      "Epoch 4/30\n",
      "1080/1080 [==============================] - 0s 142us/step - loss: 1.5100 - accuracy: 0.4926 - val_loss: 1.8055 - val_accuracy: 0.4259\n",
      "Epoch 5/30\n",
      "1080/1080 [==============================] - 0s 160us/step - loss: 1.4143 - accuracy: 0.5065 - val_loss: 1.7296 - val_accuracy: 0.4926\n",
      "Epoch 6/30\n",
      "1080/1080 [==============================] - 0s 144us/step - loss: 1.3449 - accuracy: 0.5389 - val_loss: 1.6368 - val_accuracy: 0.5037\n",
      "Epoch 7/30\n",
      "1080/1080 [==============================] - 0s 165us/step - loss: 1.2861 - accuracy: 0.5713 - val_loss: 1.5477 - val_accuracy: 0.5370\n",
      "Epoch 8/30\n",
      "1080/1080 [==============================] - 0s 144us/step - loss: 1.2230 - accuracy: 0.5704 - val_loss: 1.4817 - val_accuracy: 0.4926\n",
      "Epoch 9/30\n",
      "1080/1080 [==============================] - 0s 151us/step - loss: 1.1917 - accuracy: 0.5963 - val_loss: 1.4182 - val_accuracy: 0.5444\n",
      "Epoch 10/30\n",
      "1080/1080 [==============================] - 0s 155us/step - loss: 1.1259 - accuracy: 0.6315 - val_loss: 1.3771 - val_accuracy: 0.5741\n",
      "Epoch 11/30\n",
      "1080/1080 [==============================] - 0s 161us/step - loss: 1.1103 - accuracy: 0.6287 - val_loss: 1.3600 - val_accuracy: 0.5593\n",
      "Epoch 12/30\n",
      "1080/1080 [==============================] - 0s 115us/step - loss: 1.0335 - accuracy: 0.6352 - val_loss: 1.3388 - val_accuracy: 0.5852\n",
      "Epoch 13/30\n",
      "1080/1080 [==============================] - 0s 152us/step - loss: 1.0136 - accuracy: 0.6537 - val_loss: 1.3129 - val_accuracy: 0.5556\n",
      "Epoch 14/30\n",
      "1080/1080 [==============================] - 0s 142us/step - loss: 0.9805 - accuracy: 0.6481 - val_loss: 1.2929 - val_accuracy: 0.5519\n",
      "Epoch 15/30\n",
      "1080/1080 [==============================] - 0s 127us/step - loss: 0.8959 - accuracy: 0.6759 - val_loss: 1.3018 - val_accuracy: 0.5593\n",
      "Epoch 16/30\n",
      "1080/1080 [==============================] - 0s 158us/step - loss: 0.8730 - accuracy: 0.6944 - val_loss: 1.2527 - val_accuracy: 0.5926\n",
      "Epoch 17/30\n",
      "1080/1080 [==============================] - 0s 159us/step - loss: 0.8182 - accuracy: 0.7333 - val_loss: 1.3010 - val_accuracy: 0.5519\n",
      "Epoch 18/30\n",
      "1080/1080 [==============================] - 0s 181us/step - loss: 0.8072 - accuracy: 0.7185 - val_loss: 1.2721 - val_accuracy: 0.5704\n",
      "Epoch 19/30\n",
      "1080/1080 [==============================] - 0s 185us/step - loss: 0.7365 - accuracy: 0.7444 - val_loss: 1.2654 - val_accuracy: 0.5889\n",
      "Epoch 20/30\n",
      "1080/1080 [==============================] - 0s 168us/step - loss: 0.7387 - accuracy: 0.7444 - val_loss: 1.2849 - val_accuracy: 0.5852\n",
      "Epoch 21/30\n",
      "1080/1080 [==============================] - 0s 171us/step - loss: 0.6966 - accuracy: 0.7583 - val_loss: 1.2815 - val_accuracy: 0.5630\n",
      "Epoch 22/30\n",
      "1080/1080 [==============================] - 0s 179us/step - loss: 0.6501 - accuracy: 0.7667 - val_loss: 1.3371 - val_accuracy: 0.5519\n",
      "Epoch 23/30\n",
      "1080/1080 [==============================] - 0s 153us/step - loss: 0.6177 - accuracy: 0.7889 - val_loss: 1.2785 - val_accuracy: 0.5815\n",
      "Epoch 24/30\n",
      "1080/1080 [==============================] - 0s 155us/step - loss: 0.5914 - accuracy: 0.8056 - val_loss: 1.3068 - val_accuracy: 0.5444\n",
      "Epoch 25/30\n",
      "1080/1080 [==============================] - 0s 178us/step - loss: 0.5385 - accuracy: 0.8296 - val_loss: 1.3276 - val_accuracy: 0.5704\n",
      "Epoch 26/30\n",
      "1080/1080 [==============================] - 0s 156us/step - loss: 0.5160 - accuracy: 0.8259 - val_loss: 1.3717 - val_accuracy: 0.5407\n",
      "Epoch 27/30\n",
      "1080/1080 [==============================] - 0s 113us/step - loss: 0.4926 - accuracy: 0.8435 - val_loss: 1.3574 - val_accuracy: 0.5889\n",
      "Epoch 28/30\n",
      "1080/1080 [==============================] - 0s 155us/step - loss: 0.4515 - accuracy: 0.8528 - val_loss: 1.3966 - val_accuracy: 0.5741\n",
      "Epoch 29/30\n",
      "1080/1080 [==============================] - 0s 147us/step - loss: 0.4364 - accuracy: 0.8648 - val_loss: 1.4215 - val_accuracy: 0.5963\n",
      "Epoch 30/30\n",
      "1080/1080 [==============================] - 0s 198us/step - loss: 0.4258 - accuracy: 0.8565 - val_loss: 1.4029 - val_accuracy: 0.5556\n",
      "              precision    recall  f1-score   support\n",
      "\n",
      "           0       0.00      0.00      0.00         3\n",
      "           1       0.62      0.37      0.47        27\n",
      "           2       0.00      0.00      0.00         1\n",
      "           3       0.08      0.10      0.09        10\n",
      "           4       0.55      0.54      0.55        72\n",
      "           6       0.38      0.16      0.22        19\n",
      "           7       0.00      0.00      0.00         2\n",
      "           8       0.00      0.00      0.00         2\n",
      "           9       0.00      0.00      0.00         1\n",
      "          11       0.20      0.50      0.29         2\n",
      "          13       0.00      0.00      0.00         1\n",
      "          14       0.62      0.74      0.67       130\n",
      "\n",
      "    accuracy                           0.56       270\n",
      "   macro avg       0.20      0.20      0.19       270\n",
      "weighted avg       0.54      0.56      0.54       270\n",
      "\n"
     ]
    },
    {
     "name": "stderr",
     "output_type": "stream",
     "text": [
      "/Users/yeojin_jung/opt/anaconda3/lib/python3.7/site-packages/sklearn/metrics/classification.py:1437: UndefinedMetricWarning: Precision and F-score are ill-defined and being set to 0.0 in labels with no predicted samples.\n",
      "  'precision', 'predicted', average, warn_for)\n"
     ]
    }
   ],
   "source": [
    "#build model\n",
    "model = Sequential()\n",
    "\n",
    "#layer 1\n",
    "#add a Convolution1D which will learn nb_filter mfcc groups:\n",
    "model.add(Conv1D(filters=nb_filter,\n",
    "                 kernel_size=filter_length_1,\n",
    "                 input_shape=(X_train.shape[1], 1),\n",
    "                 padding='valid', activation='relu'\n",
    "                ))\n",
    "\n",
    "#batch normalization to keep weights in [0,1] range:\n",
    "model.add(BatchNormalization())\n",
    "\n",
    "#layer2\n",
    "model.add(Conv1D(filters=nb_filter,\n",
    "                 kernel_size=filter_length_2,\n",
    "                 padding='same', activation='relu'\n",
    "                ))\n",
    "\n",
    "#standard maxpooling to halve the output of previous layer\n",
    "model.add(MaxPooling1D(pool_size=2))\n",
    "\n",
    "#layer3\n",
    "model.add(BatchNormalization())\n",
    "model.add(Conv1D(filters=nb_filter,\n",
    "                 kernel_size=filter_length_2,\n",
    "                 padding='same', activation='relu'\n",
    "                ))\n",
    "model.add(MaxPooling1D(pool_size=2))\n",
    "\n",
    "\n",
    "#flatten the output of the convolutional layers\n",
    "#so that we can add a vanilla dense layer\n",
    "model.add(Flatten())\n",
    "\n",
    "# Dropout reduces overfitting\n",
    "model.add(Dropout(.25))\n",
    "\n",
    "#project onto a single unit output layer\n",
    "#and squash with a softmax into 0-1 probability space\n",
    "model.add(Dense(nb_classes,activation='softmax',\n",
    "               kernel_regularizer=regularizers.l1_l2(l1=1e-5, l2=1e-4),\n",
    "               activity_regularizer=regularizers.l2(1e-5)))\n",
    "\n",
    "#fit model\n",
    "model.compile(loss='categorical_crossentropy',\n",
    "              optimizer='adam',metrics=[\"accuracy\"])\n",
    "model.summary()\n",
    "history = model.fit(X_train,Y_train, batch_size=batch_size, epochs=nb_epoch, \n",
    "                    validation_data=(X_test, Y_test), verbose=1)\n",
    "\n",
    "#print report of recall, precision, f1 score\n",
    "y_pred = model.predict_classes(X_test)\n",
    "print(classification_report(y_test,y_pred))"
   ]
  },
  {
   "cell_type": "code",
   "execution_count": 109,
   "metadata": {},
   "outputs": [],
   "source": [
    "#increased epoch from 10 to 30\n",
    "#decreased nb_filters from 512 to 64\n",
    "#increased dropout rate from 0.1 to 0.25 (accuracy converges to 0.85)"
   ]
  },
  {
   "cell_type": "code",
   "execution_count": 15,
   "metadata": {},
   "outputs": [
    {
     "name": "stdout",
     "output_type": "stream",
     "text": [
      "dict_keys(['val_loss', 'val_accuracy', 'loss', 'accuracy'])\n"
     ]
    },
    {
     "data": {
      "image/png": "[encoded data removed]",
      "text/plain": [
       "<Figure size 432x288 with 1 Axes>"
      ]
     },
     "metadata": {
      "needs_background": "light"
     },
     "output_type": "display_data"
    },
    {
     "data": {
      "image/png": "[encoded data removed]",
      "text/plain": [
       "<Figure size 432x288 with 1 Axes>"
      ]
     },
     "metadata": {
      "needs_background": "light"
     },
     "output_type": "display_data"
    }
   ],
   "source": [
    "from keras.callbacks import History \n",
    "import matplotlib.pyplot as plt\n",
    "\n",
    "print(history.history.keys())\n",
    "#  \"Accuracy\"\n",
    "plt.plot(history.history['accuracy'])\n",
    "plt.plot(history.history['val_accuracy'])\n",
    "plt.title('model acuracy')\n",
    "plt.ylabel('accuracy')\n",
    "plt.xlabel('epoch')\n",
    "plt.legend(['train', 'validation'], loc='upper left')\n",
    "plt.show()\n",
    "# \"Loss\"\n",
    "plt.plot(history.history['loss'])\n",
    "plt.plot(history.history['val_loss'])\n",
    "plt.title('model loss')\n",
    "plt.ylabel('loss')\n",
    "plt.xlabel('epoch')\n",
    "plt.legend(['train', 'validation'], loc='upper left')\n",
    "plt.show()"
   ]
  },
  {
   "cell_type": "code",
   "execution_count": null,
   "metadata": {},
   "outputs": [],
   "source": []
  }
 ],
 "metadata": {
  "colab": {
   "collapsed_sections": [],
   "name": "cnn_1d.ipynb",
   "provenance": []
  },
  "kernelspec": {
   "display_name": "Python 3",
   "language": "python",
   "name": "python3"
  },
  "language_info": {
   "codemirror_mode": {
    "name": "ipython",
    "version": 3
   },
   "file_extension": ".py",
   "mimetype": "text/x-python",
   "name": "python",
   "nbconvert_exporter": "python",
   "pygments_lexer": "ipython3",
   "version": "3.7.4"
  }
 },
 "nbformat": 4,
 "nbformat_minor": 1
}
