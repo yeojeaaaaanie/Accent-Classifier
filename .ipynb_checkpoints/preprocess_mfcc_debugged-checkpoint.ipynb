{
 "cells": [
  {
   "cell_type": "code",
   "execution_count": 155,
   "metadata": {
    "colab": {},
    "colab_type": "code",
    "id": "g7S9WK4HtZ-R"
   },
   "outputs": [],
   "source": [
    "import os\n",
    "import os.path\n",
    "import numpy as np\n",
    "import pandas as pd\n",
    "from sklearn.preprocessing import StandardScaler\n",
    "import matplotlib.pyplot as plt\n",
    "\n",
    "import csv\n",
    "import sys\n",
    "import errno\n",
    "import ntpath\n",
    "\n",
    "from python_speech_features import mfcc\n",
    "from python_speech_features import logfbank\n",
    "import scipy.io.wavfile as wav\n",
    "from scipy.io.wavfile import write as wav_write\n",
    "import librosa\n",
    "import librosa.display\n",
    "import scikits.samplerate\n",
    "from pydub.silence import split_on_silence\n",
    "\n",
    "%matplotlib inline"
   ]
  },
  {
   "cell_type": "code",
   "execution_count": 165,
   "metadata": {
    "colab": {},
    "colab_type": "code",
    "id": "esFizGG7tCzr"
   },
   "outputs": [],
   "source": [
    "# create csv file to append the mfccs calculated for each audio sample\n",
    "with open('mfccs_dev.csv', 'w') as csvfile:\n",
    "    filewriter = csv.writer(csvfile, delimiter=',',\n",
    "                            quotechar='|', quoting=csv.QUOTE_MINIMAL)\n",
    "    # header\n",
    "    filewriter.writerow(['filename', 'mfcc_1', 'mfcc_2', 'mfcc_3', 'mfcc_4', 'mfcc_5', 'mfcc_6', 'mfcc_7', 'mfcc_8', 'mfcc_9', 'mfcc_10', 'mfcc_11', 'mfcc_12', 'mfcc_13', 'mfcc_mean', 'delta_mfcc', 'delta2_mfcc'])"
   ]
  },
  {
   "cell_type": "code",
   "execution_count": 157,
   "metadata": {
    "colab": {},
    "colab_type": "code",
    "id": "Eqwr7FOutJVt"
   },
   "outputs": [],
   "source": [
    "# get filename from a path\n",
    "def get_filename(path):\n",
    "    head, tail = ntpath.split(path)\n",
    "    tail= tail.split(\".\")[0]\n",
    "    return tail or ntpath.basename(head)"
   ]
  },
  {
   "cell_type": "code",
   "execution_count": 158,
   "metadata": {
    "colab": {},
    "colab_type": "code",
    "id": "X9Hxd2fztuhx"
   },
   "outputs": [],
   "source": [
    "# plot audio file wave form\n",
    "def audio_plot(audiofile, SAMPLE_RATE, duration, input_dir, savedir):\n",
    "    y, sr = librosa.load(audiofile, sr = SAMPLE_RATE, duration = duration)\n",
    "    filename = get_filename(audiofile)\n",
    "\n",
    "    plt.figure(figsize=(14,4))\n",
    "    plt.figure()\n",
    "    plt.title(\"Audio sample at {} for {} ({} of {}) \".format(SAMPLE_RATE, filename, i, len(os.listdir(input_dir))))\n",
    "    librosa.display.waveplot(y, sr = sr)\n",
    "    plt.grid\n",
    "    plt.savefig(savedir + 'audio_at_{}_{}.png'.format(SAMPLE_RATE,filename))\n",
    "    return y, sr"
   ]
  },
  {
   "cell_type": "code",
   "execution_count": 159,
   "metadata": {
    "colab": {},
    "colab_type": "code",
    "id": "O9SefN4XtY20"
   },
   "outputs": [],
   "source": [
    "# read in wav audiofile \n",
    "# return signal as np array and sampling rate as int\n",
    "def read_audio(audiofile):\n",
    "    sampling_rate, sig = wav.read(audiofile)\n",
    "    return sig, sampling_rate"
   ]
  },
  {
   "cell_type": "code",
   "execution_count": 160,
   "metadata": {
    "colab": {},
    "colab_type": "code",
    "id": "2sOzaxrauQYa"
   },
   "outputs": [],
   "source": [
    "# chunk up audio into separate words\n",
    "# audio is silent if quiter than a threshold of -16 dBFS\n",
    "# whenever this threshold is met in the audio, we assume the word ended\n",
    "# and start another word audio when the threshold is exceeded again\n",
    "\n",
    "def word_chunk(audiofile):\n",
    "  # min silence length betn words = 100ms = 0.1s\n",
    "  # define silence as 16 db quieter than average loudness \n",
    "  # don't leave silence at start and end of word chunk\n",
    "\n",
    "    savedir = 'word_chunk/'\n",
    "    if not os.path.exists(savedir):\n",
    "        os.mkdir(savedir)\n",
    "    \n",
    "    filename = get_filename(audiofile)\n",
    "    chunks = split_on_silence(audiofile, min_silence_len=100, silence_thresh=-16);\n",
    "\n",
    "  # chunks is the original audio with all words zipped\n",
    "  # to export separate words\n",
    "    for i, chunk in enumerate(chunks):\n",
    "    # output files are chunk0.wav, ..., chunk#.wav\n",
    "        chunk.export(savedir+'{}_chunk{}.wav'.format(filename, i), format=\"wav\")"
   ]
  },
  {
   "cell_type": "code",
   "execution_count": 161,
   "metadata": {
    "colab": {},
    "colab_type": "code",
    "id": "Ou62qTzQu5uL"
   },
   "outputs": [],
   "source": [
    "# MFCC (Mel Frequency Cepstral Coefficients)\n",
    "# MFCC decorrelates features\n",
    "# Using Librosa python package\n",
    "def mfcc_deltas(sample_rate, mfcc, input_dir, audiofile, i):\n",
    "  # pad first and second deltas\n",
    "    delta_mfcc = librosa.feature.delta(mfcc)\n",
    "    delta2_mfcc = librosa.feature.delta(mfcc, order=2)\n",
    "\n",
    "#     savedir = 'mfcc_deltas/'\n",
    "#     if not os.path.exists(savedir):\n",
    "#         os.mkdir(savedir)\n",
    "    \n",
    "    filename = get_filename(audiofile)\n",
    "\n",
    "#   # Visualization\n",
    "#     plt.figure(figsize=(12,4))\n",
    "\n",
    "#     plt.subplot(3,1,1)\n",
    "#     librosa.display.specshow(mfcc)\n",
    "#     plt.title(\"MFCC for {} ({} of {}) \".format(filename, i, len(os.listdir(input_dir))))\n",
    "#     plt.ylabel(\"MFCC\")\n",
    "#     plt.colorbar()\n",
    "\n",
    "#     plt.subplot(3,1,2)\n",
    "#     librosa.display.specshow(delta_mfcc)\n",
    "#     plt.ylabel(\"MFCC-$\\Delta$\")\n",
    "#     plt.colorbar()\n",
    "\n",
    "#     plt.subplot(3,1,3)\n",
    "#     librosa.display.specshow(delta2_mfcc, sr=sample_rate, x_axis=\"time\")\n",
    "#     plt.ylabel(\"MFCC-$\\Delta^2$\")\n",
    "#     plt.xlabel(\"Time\")\n",
    "#     plt.colorbar()\n",
    "\n",
    "#     plt.tight_layout()\n",
    "#     plt.savefig(savedir + 'MFCC_{}_{}.png'.format(SAMPLE_RATE,filename))\n",
    "\n",
    "    return delta_mfcc, delta2_mfcc"
   ]
  },
  {
   "cell_type": "code",
   "execution_count": 182,
   "metadata": {
    "colab": {},
    "colab_type": "code",
    "id": "l7mUm0natLTv",
    "outputId": "2e080a65-5789-4c38-d388-a488aa7ecc30"
   },
   "outputs": [
    {
     "name": "stderr",
     "output_type": "stream",
     "text": [
      "WARNING:root:frame length (1200) is greater than FFT size (512), frame will be truncated. Increase NFFT to avoid.\n"
     ]
    },
    {
     "name": "stdout",
     "output_type": "stream",
     "text": [
      "(265, 13)\n",
      "(13,)\n",
      "[[-36.04365339   0.           0.         ...   0.           0.\n",
      "    0.        ]\n",
      " [-36.04365339   0.           0.         ...   0.           0.\n",
      "    0.        ]\n",
      " [  6.41302864 -17.93110887  -1.62683688 ...   8.56586051   5.10892199\n",
      "   11.94969404]\n",
      " ...\n",
      " [  9.16469687 -14.90789249 -18.24482276 ...  12.93603426 -12.02022068\n",
      "    6.0907771 ]\n",
      " [  7.92410436 -14.72336603 -12.20837368 ...   0.6202328   -5.23040641\n",
      "   -1.5434769 ]\n",
      " [  5.01406283 -36.27532371 -11.5562666  ...   3.36871672  -3.2479912\n",
      "   -6.01106045]]\n",
      "-36.04365338911715\n"
     ]
    }
   ],
   "source": [
    "datadir = 'cv-valid-dev-wav' #Insert folder path of the audio dataset\n",
    "\n",
    "for i, audiofile in enumerate(os.listdir(datadir)):\n",
    "    if audiofile.endswith('.wav'):\n",
    "        # Insert directory you'd like to save in\n",
    "        savedir = 'preprocessed/'\n",
    "        if not os.path.exists(savedir):\n",
    "            os.mkdir(savedir)\n",
    "        \n",
    "        filename = get_filename(audiofile)\n",
    "        #audio = AudioSegment.from_mp3(audiofile)\n",
    "        #audio.export()\n",
    "\n",
    "        # Audible sound to a human is 22050 Hz (22 KHz)\n",
    "        SAMPLE_RATE = 22050\n",
    "        # chop at 5 seconds so the differences in the plots are more perceptible and consistent\n",
    "        duration = 5 #try with and without and save in separate directories\n",
    "\n",
    "        # uncomment if files haven't been converted from mp3 to wav\n",
    "        # audio = AudioSegment.from_mp3(src)\n",
    "        # audio.export(dst, format = \"wav\")\n",
    "        \n",
    "        path_file = os.path.join(datadir,audiofile)\n",
    "        \n",
    "#         y, sr = audio_plot(path_file, SAMPLE_RATE, duration, datadir, savedir)\n",
    "\n",
    "        sig, sampling_rate = read_audio(path_file)\n",
    "\n",
    "        # extract top 13 mfcc coefficients\n",
    "        mfcc_coef = mfcc(sig, sampling_rate) #mfcc_coef dimension: (_,13)\n",
    "        \n",
    "        # get mean mfcc\n",
    "        mfcc_mean = np.mean(mfcc_coef, axis = 0)\n",
    "\n",
    "        # mfcc deltas\n",
    "        delta_mfcc, delta2_mfcc = mfcc_deltas(SAMPLE_RATE, mfcc_coef, datadir, path_file, i)\n",
    "\n",
    "        # write into mfcc csv file\n",
    "        \n",
    "        with open('mfccs_dev.csv', 'a') as csvfile:\n",
    "            filewriter = csv.writer(csvfile)\n",
    "            filewriter.writerow([filename, mfcc_coef[0], mfcc_coef[1], mfcc_coef[2], mfcc_coef[3], mfcc_coef[4], mfcc_coef[5], mfcc_coef[6], mfcc_coef[7], mfcc_coef[8], mfcc_coef[9], mfcc_coef[10], mfcc_coef[11], mfcc_coef[12], mfcc_mean, delta_mfcc, delta2_mfcc])\n",
    "\n",
    "        # chunk up audio into separate words\n",
    "        #word_chunk(audiofile)\n",
    "        \n",
    "        \n",
    "\n"
   ]
  },
  {
   "cell_type": "code",
   "execution_count": 0,
   "metadata": {
    "colab": {},
    "colab_type": "code",
    "id": "LPKd4Ba1x89L"
   },
   "outputs": [],
   "source": []
  }
 ],
 "metadata": {
  "colab": {
   "collapsed_sections": [],
   "name": "preprocess_mfcc_debugged.ipynb",
   "provenance": []
  },
  "kernelspec": {
   "display_name": "Python 3",
   "language": "python",
   "name": "python3"
  },
  "language_info": {
   "codemirror_mode": {
    "name": "ipython",
    "version": 3
   },
   "file_extension": ".py",
   "mimetype": "text/x-python",
   "name": "python",
   "nbconvert_exporter": "python",
   "pygments_lexer": "ipython3",
   "version": "3.7.4"
  }
 },
 "nbformat": 4,
 "nbformat_minor": 1
}
