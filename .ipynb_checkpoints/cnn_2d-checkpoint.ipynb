{
 "cells": [
  {
   "cell_type": "code",
   "execution_count": 2,
   "metadata": {
    "colab": {},
    "colab_type": "code",
    "id": "1Nhau6hODx_H"
   },
   "outputs": [
    {
     "name": "stderr",
     "output_type": "stream",
     "text": [
      "Using TensorFlow backend.\n"
     ]
    }
   ],
   "source": [
    "from __future__ import print_function\n",
    "\n",
    "import numpy as np\n",
    "import pickle\n",
    "import pandas as pd\n",
    "\n",
    "from sklearn.model_selection import train_test_split\n",
    "from sklearn.metrics import classification_report\n",
    "\n",
    "from keras.preprocessing import sequence\n",
    "from keras.layers.noise import GaussianNoise\n",
    "from keras.models import Sequential\n",
    "from keras.layers.core import Dense,Dropout,Activation,Flatten\n",
    "from keras.layers.normalization import BatchNormalization\n",
    "from keras.layers.convolutional import Convolution2D,MaxPooling2D\n",
    "from keras.utils import np_utils"
   ]
  },
  {
   "cell_type": "code",
   "execution_count": 0,
   "metadata": {
    "colab": {},
    "colab_type": "code",
    "id": "cplzftzzROem"
   },
   "outputs": [],
   "source": [
    "#set parameters\n",
    "\n",
    "test_dim = 999 #TODO\n",
    "maxlen = 100 #TODO\n",
    "batch_size = 50\n",
    "nb_filter = 16\n",
    "kernel_size_1 = 10 #TODO\n",
    "kernel_size_2 = 7 #TODO\n",
    "hidden_dims = 10 #TODO\n",
    "nb_epoch = 10 #TODO\n",
    "nb_classes = 16 #TODO"
   ]
  },
  {
   "cell_type": "code",
   "execution_count": 0,
   "metadata": {
    "colab": {},
    "colab_type": "code",
    "id": "YosiMd03RqAE"
   },
   "outputs": [],
   "source": [
    "#load the sequential MFCC data\n",
    "with open(os.path.join(proj_dir, 'seq_mfcc.pickle'), 'rb') as jar:\n",
    "  mfcc_data = pickle.load(jar)\n",
    "\n",
    "test_dim = mfcc_data.shape[0]\n",
    "#set up targets (labels)\n",
    "df = pd.read_csv(\"cv-valid-dev-acc-wav.csv\")\n",
    "mfcc_targets = np.array(df['accent'])\n",
    "\n",
    "X_train,X_test,y_train,y_test = train_test_split(\n",
    "    mfcc_data,mfcc_targets,test_size=0.20,random_state=42\n",
    ")\n",
    "\n",
    "print(len(X_train), 'train sequences')\n",
    "print(len(X_test)), 'test sequences')\n",
    "\n",
    "Y_train = np_utils.to_categorical(y_train, nb_classes)\n",
    "Y_test = np.utils.to_categorical(y_test, nb_classes)"
   ]
  },
  {
   "cell_type": "code",
   "execution_count": 0,
   "metadata": {
    "colab": {},
    "colab_type": "code",
    "id": "6DbKSHznSMzW"
   },
   "outputs": [],
   "source": [
    "#build model\n",
    "model = Sequential()\n",
    "\n",
    "#layer 1\n",
    "#add a Convolution2D which will learn nb_filter mfcc groups:\n",
    "model.add(Convolution2D(nb_filter=nb_filter,\n",
    "                        kernel_size=kernel_size_1,\n",
    "                        input_shape=(test_dim,13),\n",
    "                        init='glorot_normal',\n",
    "                        border_mode='valid',\n",
    "                        activation='relu'))\n",
    "\n",
    "#batch normalization to keep weights in [0,1] range:\n",
    "model.add(BatchNormalization())\n",
    "\n",
    "#layer2\n",
    "model.add(Convolution2D(nb_filter=nb_filter,\n",
    "                        kernel_size=kernel_size_2,\n",
    "                        border_mode='valid',\n",
    "                        activation='relu'))\n",
    "model.add(BatchNormalization())\n",
    "\n",
    "#standard maxpooling to halve the output of previous layer\n",
    "model.add(MaxPooling2D(pool_size=(2,2)))\n",
    "\n",
    "#layer3\n",
    "model.add(Convolution2D(nb_filter=nb_filter,\n",
    "                        kernel_size=kernel_size_2,\n",
    "                        border_mode='valid',\n",
    "                        activation='relu'\n",
    "                        ))\n",
    "model.add(BatchNormalization())\n",
    "model.add(MaxPooling2D(pool_size=(2,2))\n",
    "\n",
    "# Dropout reduces overfitting\n",
    "model.add(Dropout(.1))\n",
    "\n",
    "#flatten the output of the convolutional layers\n",
    "#so that we can add a vanilla dense layer\n",
    "model.add(Flatten())\n",
    "\n",
    "#project onto a single unit output layer\n",
    "#and squash with a softmax into 0-1 probability space\n",
    "model.add(Dense(nb_classes))\n",
    "model.add(Activation('softmax'))\n",
    "\n",
    "#fit model\n",
    "model.compile(loss='categorical_crossentropy',\n",
    "              optimizer='adam',metrics=[\"accuracy\"])\n",
    "model.summary()\n",
    "model.fit(X_train,Y_train,batch_size=batch_size,\n",
    "          nb_epoch=nb_epoch,verbose=1,\n",
    "          validation_data=(X_test,Y_test))\n",
    "\n",
    "#print report of recall, precision, f1 score\n",
    "y_pred = model.predict_classes(X_test)\n",
    "print(classification_report(y_test,y_pred))"
   ]
  }
 ],
 "metadata": {
  "colab": {
   "authorship_tag": "ABX9TyNpCFay28L/q95YygTjI55p",
   "collapsed_sections": [],
   "name": "cnn_2d.ipynb",
   "provenance": []
  },
  "kernelspec": {
   "display_name": "Python 3",
   "language": "python",
   "name": "python3"
  },
  "language_info": {
   "codemirror_mode": {
    "name": "ipython",
    "version": 3
   },
   "file_extension": ".py",
   "mimetype": "text/x-python",
   "name": "python",
   "nbconvert_exporter": "python",
   "pygments_lexer": "ipython3",
   "version": "3.7.4"
  }
 },
 "nbformat": 4,
 "nbformat_minor": 1
}
